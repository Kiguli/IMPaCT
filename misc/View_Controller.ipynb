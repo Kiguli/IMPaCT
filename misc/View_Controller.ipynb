{
 "cells": [
  {
   "cell_type": "code",
   "execution_count": null,
   "id": "e320638d-6141-4bca-802f-b5403e563309",
   "metadata": {},
   "outputs": [],
   "source": [
    "import h5py\n",
    "import pandas as pd\n",
    "\n",
    "# Open the HDF5 file\n",
    "with h5py.File('controller.h5', 'r') as f:\n",
    "    # Assuming you have a dataset named 'dataset' in the HDF5 file\n",
    "    if 'dataset' in f:\n",
    "        # Access the dataset\n",
    "        dataset = f['dataset']\n",
    "        \n",
    "        # Convert the dataset to a pandas DataFrame and transpose it\n",
    "        df = pd.DataFrame(dataset[:]).T\n",
    "        \n",
    "        # Display the DataFrame\n",
    "        display(df)\n",
    "    else:\n",
    "        print(\"No 'dataset' found in the HDF5 file.\")"
   ]
  }
 ],
 "metadata": {
  "kernelspec": {
   "display_name": "Python 3 (ipykernel)",
   "language": "python",
   "name": "python3"
  },
  "language_info": {
   "codemirror_mode": {
    "name": "ipython",
    "version": 3
   },
   "file_extension": ".py",
   "mimetype": "text/x-python",
   "name": "python",
   "nbconvert_exporter": "python",
   "pygments_lexer": "ipython3",
   "version": "3.10.12"
  }
 },
 "nbformat": 4,
 "nbformat_minor": 5
}
